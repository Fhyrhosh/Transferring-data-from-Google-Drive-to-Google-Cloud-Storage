{
  "nbformat": 4,
  "nbformat_minor": 0,
  "metadata": {
    "colab": {
      "provenance": [],
      "include_colab_link": true
    },
    "kernelspec": {
      "name": "python3",
      "display_name": "Python 3"
    }
  },
  "cells": [
    {
      "cell_type": "markdown",
      "metadata": {
        "id": "view-in-github",
        "colab_type": "text"
      },
      "source": [
        "<a href=\"https://colab.research.google.com/github/Fhyrhosh/Transferring-data-from-Google-Drive-to-Google-Cloud-Storage/blob/main/Transfer_Google_Drive_to_GCS.ipynb\" target=\"_parent\"><img src=\"https://colab.research.google.com/assets/colab-badge.svg\" alt=\"Open In Colab\"/></a>"
      ]
    },
    {
      "cell_type": "markdown",
      "metadata": {
        "id": "OPk9CrZM8bXx"
      },
      "source": [
        "# Transferring data from Google Drive to Google Cloud Storage\n",
        "This example shows how to transfer files from your Google Drive to a Google Cloud Storage project. We mount Google Drive using the google colab tools which requires authenticating in a separate brower window. Then we authenticate and connect our Google Cloud Storage project, list all buckets, and start copying files from Google Drive to our bucket."
      ]
    },
    {
      "cell_type": "markdown",
      "source": [
        "##__Mount Your Google Drive__"
      ],
      "metadata": {
        "id": "LMYmBSmzDyBN"
      }
    },
    {
      "cell_type": "code",
      "metadata": {
        "id": "gYyUbZ9j01LG"
      },
      "source": [
        "from google.colab import drive\n",
        "drive.mount('/content/drive')"
      ],
      "execution_count": null,
      "outputs": []
    },
    {
      "cell_type": "markdown",
      "source": [
        "##__Authorize acces to Google Cloud Storage__"
      ],
      "metadata": {
        "id": "gpbB6g5VELPI"
      }
    },
    {
      "cell_type": "markdown",
      "source": [
        "* Fill in your Project ID\n",
        "* You can see project id in your google cloude Storage > MyProject"
      ],
      "metadata": {
        "id": "vBoNLFKlFZQx"
      }
    },
    {
      "cell_type": "code",
      "metadata": {
        "id": "aehvgY-u7zRe"
      },
      "source": [
        "from google.colab import auth\n",
        "auth.authenticate_user()\n",
        "\n",
        "project_id = 'adroit-hall-361208'\n",
        "!gcloud config set project {project_id}\n",
        "!gsutil ls\n"
      ],
      "execution_count": null,
      "outputs": []
    },
    {
      "cell_type": "markdown",
      "source": [
        "##__Copy Google Drive to Google Cloud Storge__"
      ],
      "metadata": {
        "id": "WhwVdbVEDFtn"
      }
    },
    {
      "cell_type": "markdown",
      "source": [
        "* First path in below cell - Your Google Drive file location which you want to copy \n",
        "* Scond path in below cell - Your Google Cloud Store file location which you want to copy"
      ],
      "metadata": {
        "id": "AtQ9KK1WDVMe"
      }
    },
    {
      "cell_type": "code",
      "metadata": {
        "id": "bFfQadlr0_Wy"
      },
      "source": [
        "bucket_name = 'staging.adroit-hall-361208.appspot.com'\n",
        "\n",
        "!gsutil -m cp -r \"Path file want to copy\" \"gs://staging.adroit-hall-361208.appspot.com/Android/\""
      ],
      "execution_count": null,
      "outputs": []
    }
  ]
}